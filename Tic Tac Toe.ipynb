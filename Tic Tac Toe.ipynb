{
 "cells": [
  {
   "cell_type": "markdown",
   "metadata": {},
   "source": [
    "Step 1: Write a function that can print out a board. Set up your board as a list, where each index 1-9 corresponds with a number on a number pad, so you get a 3 by 3 board representation"
   ]
  },
  {
   "cell_type": "code",
   "execution_count": 11,
   "metadata": {},
   "outputs": [],
   "source": [
    "from IPython.display import clear_output\n",
    "import random\n",
    "import "
   ]
  },
  {
   "cell_type": "code",
   "execution_count": 10,
   "metadata": {},
   "outputs": [],
   "source": [
    "def tic_tac_toe_board(board): \n",
    "\n",
    "    # if start != 0:\n",
    "        \n",
    "        clear_output()\n",
    "        \n",
    "        print(f\"\\nCurrent board looks like:\\n\\n    |     |   \\n {board[1]}  |  {board[2]}  |  {board[3]}   \\n    |     |   \\n===============\\n    |     |   \\n {board[4]}  |  {board[5]}  |  {board[6]}   \\n    |     |   \\n===============\\n    |     |   \\n {board[7]}  |  {board[8]}  |  {board[9]}  \\n    |     |\")\n",
    "        \n",
    "    # else:\n",
    "        # print(f\"\\nCurrent board looks like:\\n\\n    |     |   \\n {board[1]}  |  {board[2]}  |  {board[3]}   \\n    |     |   \\n===============\\n    |     |   \\n {board[4]}  |  {board[5]}  |  {board[6]}   \\n    |     |   \\n===============\\n    |     |   \\n {board[7]}  |  {board[8]}  |  {board[9]}  \\n    |     |\")\n",
    "        \n",
    "\n",
    "\n",
    "    # print(\"\\n\\nEquivalent num pad\\n\\n    |     |   \\n 7  |  8  |  9  \\n    |     |   \\n===============\\n    |     |   \\n 4  |  5  |  6  \\n    |     |   \\n===============\\n    |     |   \\n 1  |  2  |  3  \\n    |     |   \")"
   ]
  },
  {
   "cell_type": "markdown",
   "metadata": {},
   "source": [
    "Run your function on a test version of the board list, and make adjustments as necessary. "
   ]
  },
  {
   "cell_type": "code",
   "execution_count": null,
   "metadata": {},
   "outputs": [],
   "source": [
    "test_board = [' ', 'X', '0', '0', 'X','0','X', '0', 'X','0']\n",
    "\n",
    "tic_tac_toe_board(test_board)\n",
    "\n"
   ]
  },
  {
   "cell_type": "markdown",
   "metadata": {},
   "source": [
    "Step 2: Write a function that can take in a player input and assign their marker as 'X' or 'O'. Think about using *while* loops to continually ask until you get a correct answer."
   ]
  },
  {
   "cell_type": "code",
   "execution_count": 9,
   "metadata": {},
   "outputs": [],
   "source": [
    "def players_input(player_1, player_2):\n",
    "\n",
    "\n",
    "    while True:\n",
    "\n",
    "        try:\n",
    "            \n",
    "            player_1_mark = input(f\"{player_1}: Please choose either 'X' or a 'O' as your mark for the tic tac toe game\")\n",
    "            capitalized_player_1_mark = player_1_mark.upper()\n",
    "            \n",
    "            if capitalized_player_1_mark == 'X' or capitalized_player_1_mark == 'O':\n",
    "\n",
    "                if capitalized_player_1_mark == 'X':\n",
    "\n",
    "                    capitalized_player_2_mark = 'O'\n",
    "\n",
    "                    print(f\"\\nMark assigned to {player_1}: {capitalized_player_1_mark}\")\n",
    "                    print(f\"Mark assigned to {player_2}: {capitalized_player_2_mark}\")\n",
    "                    break\n",
    "\n",
    "                elif capitalized_player_1_mark == 'O':\n",
    "\n",
    "                    capitalized_player_2_mark = 'X'\n",
    "\n",
    "                    print(f\"\\nMark assigned to {player_1}: {capitalized_player_1_mark}\")\n",
    "                    print(f\"Mark assigned to {player_2}: {capitalized_player_2_mark}\")\n",
    "                    break\n",
    "                \n",
    "                else:\n",
    "                    print(\"Invalid Entry! Please select either a 'X' or a 'O'.\")\n",
    "\n",
    "        except ValueError:\n",
    "\n",
    "            print(\"Invalid entry! Please select either an 'X' or a 'O' as marks\")\n",
    "\n",
    "    return capitalized_player_1_mark, capitalized_player_2_mark"
   ]
  },
  {
   "cell_type": "code",
   "execution_count": null,
   "metadata": {},
   "outputs": [],
   "source": [
    "players_input()"
   ]
  },
  {
   "cell_type": "markdown",
   "metadata": {},
   "source": [
    "Step 3: Write a function that takes in the board list object, a marker ('X' or 'O'), and a desired position (number 1-9) and assigns it to the board."
   ]
  },
  {
   "cell_type": "code",
   "execution_count": 8,
   "metadata": {},
   "outputs": [],
   "source": [
    "def board_marker (board_list, marker, position):\n",
    "    \n",
    "  if position == 1:\n",
    "    board_list[7] = marker\n",
    "\n",
    "  elif position == 2:\n",
    "    board_list[8] = marker\n",
    "\n",
    "  elif position == 3:\n",
    "    board_list[9] = marker\n",
    "\n",
    "  elif position == 4:\n",
    "    board_list[4] = marker\n",
    "\n",
    "  elif position == 5:\n",
    "    board_list[5] = marker\n",
    "\n",
    "  elif position == 6:\n",
    "    board_list[6] = marker\n",
    "\n",
    "  elif position == 7:\n",
    "    board_list[1] = marker\n",
    "\n",
    "  elif position == 8:\n",
    "    board_list[2] = marker\n",
    "\n",
    "  elif position == 9:\n",
    "    board_list[3] = marker\n",
    "\n",
    "  else:\n",
    "    pass\n",
    "    \n",
    "    \n",
    "  return board_list\n",
    "\n"
   ]
  },
  {
   "cell_type": "markdown",
   "metadata": {},
   "source": [
    "TEST Step 3: run the place marker function using test parameters and display the modified board"
   ]
  },
  {
   "cell_type": "code",
   "execution_count": null,
   "metadata": {},
   "outputs": [],
   "source": [
    "board_marker(test_board, 'X', 5)\n",
    "tic_tac_toe_board(test_board)\n"
   ]
  },
  {
   "cell_type": "markdown",
   "metadata": {},
   "source": [
    "Write a function that takes in a board and a mark (X or O) and then checks to see if that mark has won"
   ]
  },
  {
   "cell_type": "code",
   "execution_count": 7,
   "metadata": {},
   "outputs": [],
   "source": [
    "def win_check(board, mark):\n",
    "\n",
    "    return (board[7] == mark and board[8] == mark and board[9] == mark or \n",
    "            board[4] == mark and board[5] == mark and board[6] == mark or\n",
    "            board[1] == mark and board[2] == mark and board[3] == mark or\n",
    "            board[7] == mark and board[4] == mark and board[1] == mark or\n",
    "            board[8] == mark and board[5] == mark and board[2] == mark or\n",
    "            board[9] == mark and board[6] == mark and board[3] == mark or\n",
    "            board[7] == mark and board[5] == mark and board[3] == mark or\n",
    "            board[9] == mark and board[5] == mark and board[1] == mark)"
   ]
  },
  {
   "cell_type": "markdown",
   "metadata": {},
   "source": [
    "TEST Step 4: run the win_check function against our test_board - it should return True"
   ]
  },
  {
   "cell_type": "code",
   "execution_count": 6,
   "metadata": {},
   "outputs": [
    {
     "ename": "NameError",
     "evalue": "name 'win_check' is not defined",
     "output_type": "error",
     "traceback": [
      "\u001b[1;31m---------------------------------------------------------------------------\u001b[0m",
      "\u001b[1;31mNameError\u001b[0m                                 Traceback (most recent call last)",
      "Cell \u001b[1;32mIn[6], line 1\u001b[0m\n\u001b[1;32m----> 1\u001b[0m \u001b[43mwin_check\u001b[49m(test_board, \u001b[38;5;124m'\u001b[39m\u001b[38;5;124mX\u001b[39m\u001b[38;5;124m'\u001b[39m)\n",
      "\u001b[1;31mNameError\u001b[0m: name 'win_check' is not defined"
     ]
    }
   ],
   "source": [
    "win_check(test_board, 'X')"
   ]
  },
  {
   "cell_type": "markdown",
   "metadata": {},
   "source": [
    "Step 5: Write a function that uses the random module to randomly decide which player goes first. You may want to lookup random.randint() Return a string of which player went first."
   ]
  },
  {
   "cell_type": "code",
   "execution_count": 5,
   "metadata": {},
   "outputs": [],
   "source": [
    "def which_player_first(player_one, player_two):\n",
    "\n",
    "    return random.choice([player_one, player_two])\n",
    "\n"
   ]
  },
  {
   "cell_type": "markdown",
   "metadata": {},
   "source": [
    "Step 6: Write a function that returns a boolean indicating whether a space on the board is freely available. "
   ]
  },
  {
   "cell_type": "code",
   "execution_count": 4,
   "metadata": {},
   "outputs": [],
   "source": [
    "def free_space(board_list, position):\n",
    "    \n",
    "    if position == 1:\n",
    "        return board_list[7] == ' '\n",
    "    \n",
    "    elif position == 2:\n",
    "        return board_list[8] == ' '\n",
    "    \n",
    "    elif position == 3:\n",
    "        return board_list[9] == ' '\n",
    "  \n",
    "    elif position == 4:\n",
    "        return board_list[4] == ' '\n",
    "\n",
    "    elif position == 5:\n",
    "        return board_list[5] == ' '\n",
    "\n",
    "    elif position == 6:\n",
    "        return board_list[6] == ' '\n",
    "    \n",
    "    elif position == 7:\n",
    "        return board_list[1] == ' '\n",
    "    \n",
    "    elif position == 8:\n",
    "        return board_list[2] == ' '\n",
    "    \n",
    "    elif position == 9:\n",
    "        return board_list[3] == ' '\n",
    "    \n",
    "    else:\n",
    "        pass\n"
   ]
  },
  {
   "cell_type": "markdown",
   "metadata": {},
   "source": [
    "Step 7: Write a function that checks if the board is full and returns a boolean value. True if full, False otherwise. "
   ]
  },
  {
   "cell_type": "code",
   "execution_count": 3,
   "metadata": {},
   "outputs": [],
   "source": [
    "def board_full(board):\n",
    "\n",
    "    if (board[1] == ' ' or\n",
    "        board[2] == ' ' or\n",
    "        board[3] == ' ' or\n",
    "        board[5] == ' ' or\n",
    "        board[6] == ' ' or\n",
    "        board[7] == ' ' or\n",
    "        board[8] == ' ' or\n",
    "        board[9] == ' '):\n",
    "\n",
    "        return True\n",
    "    \n",
    "    else:\n",
    "\n",
    "        return False"
   ]
  },
  {
   "cell_type": "markdown",
   "metadata": {},
   "source": [
    "Step 8: Write a function that asks for a player's next position (as a number 1-9) and then uses the function from step 6 to check if it's a free position. If it is, then return the position for later use. "
   ]
  },
  {
   "cell_type": "code",
   "execution_count": 2,
   "metadata": {},
   "outputs": [],
   "source": [
    "def next_position(board):\n",
    "    selected_position = 0\n",
    "\n",
    "    while True:\n",
    "        user_input = input(\"Please enter a valid position: \")\n",
    "\n",
    "        if user_input.isdigit():  # Check if the input is a digit\n",
    "            selected_position = int(user_input)\n",
    "            if selected_position in [1, 2, 3, 4, 5, 6, 7, 8, 9] and free_space(board, selected_position):\n",
    "                break\n",
    "            else:\n",
    "                print(\"Position not available or out of range. Try again.\")\n",
    "        else:\n",
    "            print(\"Invalid input. Please enter a number between 1 and 9.\")\n",
    "\n",
    "    return selected_position"
   ]
  },
  {
   "cell_type": "markdown",
   "metadata": {},
   "source": [
    "Step 9: Write a function that asks the player if they want to play again and returns a boolean True if they do want to play again"
   ]
  },
  {
   "cell_type": "code",
   "execution_count": 1,
   "metadata": {},
   "outputs": [],
   "source": [
    "def want_to_play():\n",
    "\n",
    "\n",
    "    while True:\n",
    "\n",
    "        play_again = input(\"Do you want to play a Tic Toe Game again or not? Please enter 'y' for yes or 'n' for no\")\n",
    "        \n",
    "        try:\n",
    "            \n",
    "            play_again = play_again.capitalize()\n",
    "            \n",
    "            if play_again == 'Y':\n",
    "                \n",
    "                return True\n",
    "            \n",
    "            elif play_again == 'N':\n",
    "                \n",
    "                return False\n",
    "        \n",
    "            \n",
    "            else:\n",
    "                print(\"Invalid entry! Please enter a 'y' for a yes or 'n' for a no\")\n",
    "\n",
    "        except ValueError:\n",
    "\n",
    "            print(\"Invalid Entry! Please enter a 'y' for a yes or 'n' for a no\")\n"
   ]
  },
  {
   "cell_type": "markdown",
   "metadata": {},
   "source": [
    "Step 10: Here comes the hard part! Use while loops and the functions you've made to run the game!"
   ]
  },
  {
   "cell_type": "code",
   "execution_count": 14,
   "metadata": {},
   "outputs": [
    {
     "name": "stdout",
     "output_type": "stream",
     "text": [
      "\n",
      "Current board looks like:\n",
      "\n",
      "    |     |   \n",
      "    |     |      \n",
      "    |     |   \n",
      "===============\n",
      "    |     |   \n",
      "    |     |      \n",
      "    |     |   \n",
      "===============\n",
      "    |     |   \n",
      "    |     |     \n",
      "    |     |\n",
      "\n",
      "Hello! Welcome to your very own Tic Tac Toe game\n"
     ]
    }
   ],
   "source": [
    "new_board = [' ',' ',' ',' ',' ',' ',' ',' ',' ',' ']\n",
    "\n",
    "tic_tac_toe_board(new_board)\n",
    "\n",
    "print(\"\\nHello! Welcome to your very own Tic Tac Toe game\")\n",
    "\n",
    "player_one_name = input(\"\\nFirst player! Please enter your name: \")\n",
    "player_two_name = input(\"Player two! Please enter your name: \")\n",
    "\n",
    "print(f\"\\nAlright! Best of luck {player_one_name} and {player_two_name}\")\n",
    "\n",
    "player_one_mark, player_two_mark = players_input(player_one_name, player_two_name)\n",
    "\n",
    "first_turn = which_player_first(player_one_name,player_two_name)\n",
    "\n",
    "print(f\"\\nPlayer that will start the game: {first_turn}\")\n",
    "\n",
    "if first_turn == player_one_name:\n",
    "    count = 1\n",
    "else:\n",
    "    count = 2\n",
    "\n",
    "\n",
    "while board_full(new_board):\n",
    "\n",
    "    if count%2 != 0:\n",
    "        print(f\"\\n{player_one_name}! Your turn. Your mark is {player_one_mark}\")\n",
    "        position_on_board = next_position(new_board)\n",
    "        new_board = board_marker(new_board, player_one_mark, position_on_board)\n",
    "        tic_tac_toe_board(new_board)\n",
    "\n",
    "        if win_check(new_board, player_one_mark):\n",
    "            print(f\"\\nCongratulations {player_one_name}! You won the game\")\n",
    "            break\n",
    "        else:\n",
    "            count += 1\n",
    "\n",
    "        \n",
    "    else:\n",
    "        print(f\"\\n{player_two_name}! Your turn. Your mark is {player_two_mark}\")\n",
    "        position_on_board = next_position(new_board)\n",
    "        new_board = board_marker(new_board, player_two_mark, position_on_board)\n",
    "        tic_tac_toe_board(new_board)\n",
    "\n",
    "        if win_check(new_board, player_two_mark):\n",
    "            print(f\"\\nCongratulations {player_two_name}! You won the game\")\n",
    "            break\n",
    "        else:\n",
    "            count += 1\n",
    "\n",
    "        \n",
    "        \n",
    "if win_check(new_board, player_two_mark) == False and win_check(new_board, player_one_mark) == False:\n",
    "    print(\"\\nThe game ends in a draw\")\n",
    "\n",
    "while want_to_play():\n",
    "    \n",
    "    new_board = [' ',' ',' ',' ',' ',' ',' ',' ',' ',' ']\n",
    "    tic_tac_toe_board(new_board)\n",
    "\n",
    "    first_turn = which_player_first(player_one_name,player_two_name)\n",
    "    \n",
    "    print(f\"\\nPlayer that will start the game: {first_turn}\")\n",
    "    \n",
    "    if first_turn == player_one_name:\n",
    "        count = 1 \n",
    "    else:\n",
    "        count = 2\n",
    "        \n",
    "        while board_full(new_board):\n",
    "            \n",
    "            if count%2 != 0:\n",
    "                print(f\"\\n{player_one_name}! Your turn. Your mark is {player_one_mark}\")\n",
    "                position_on_board = next_position(new_board)\n",
    "                new_board = board_marker(new_board, player_one_mark, position_on_board)\n",
    "                tic_tac_toe_board(new_board)\n",
    "                \n",
    "                if win_check(new_board, player_one_mark):\n",
    "                    print(f\"\\nCongratulations {player_one_name}! You won the game\")\n",
    "                    break\n",
    "                else:\n",
    "                    count += 1\n",
    "\n",
    "        \n",
    "            else:\n",
    "                print(f\"\\n{player_two_name}! Your turn. Your mark is {player_two_mark}\")\n",
    "                position_on_board = next_position(new_board)\n",
    "                new_board = board_marker(new_board, player_two_mark, position_on_board)\n",
    "                tic_tac_toe_board(new_board)\n",
    "                \n",
    "                if win_check(new_board, player_two_mark):\n",
    "                    print(f\"\\nCongratulations {player_two_name}! You won the game\")\n",
    "                    break\n",
    "                else:\n",
    "                    count += 1\n",
    "\n",
    "        if win_check(new_board, player_two_mark) == False and win_check(new_board, player_one_mark) == False:\n",
    "            print(\"\\nThe game ends in a draw\")\n",
    "    \n",
    "\n",
    "\n",
    "print(\"\\nGame Over!!!\")\n",
    "    "
   ]
  }
 ],
 "metadata": {
  "kernelspec": {
   "display_name": "new-env",
   "language": "python",
   "name": "python3"
  },
  "language_info": {
   "codemirror_mode": {
    "name": "ipython",
    "version": 3
   },
   "file_extension": ".py",
   "mimetype": "text/x-python",
   "name": "python",
   "nbconvert_exporter": "python",
   "pygments_lexer": "ipython3",
   "version": "3.12.3"
  }
 },
 "nbformat": 4,
 "nbformat_minor": 2
}
