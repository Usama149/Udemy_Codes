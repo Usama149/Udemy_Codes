{
 "cells": [
  {
   "cell_type": "markdown",
   "metadata": {},
   "source": [
    "Write a function that returns the lesser of two given numbers *if* both numbers are even, but returns the greater if one or both numbers are odd"
   ]
  },
  {
   "cell_type": "code",
   "execution_count": 13,
   "metadata": {},
   "outputs": [],
   "source": [
    "def lesser_or_greater(first,second):\n",
    "    if first % 2 == 0 and second % 2 == 0:\n",
    "        return min(first,second)\n",
    "    else:\n",
    "        return max(first,second)"
   ]
  },
  {
   "cell_type": "code",
   "execution_count": 15,
   "metadata": {},
   "outputs": [
    {
     "name": "stdout",
     "output_type": "stream",
     "text": [
      "first_number: 10\n",
      "second_input: 12\n",
      "10\n"
     ]
    }
   ],
   "source": [
    "first_input = input(\"Please enter the first number: \")\n",
    "second_input = input(\"Please enter the second number: \")\n",
    "\n",
    "first_number = int(first_input)\n",
    "second_number = int(second_input)\n",
    "\n",
    "print(f\"first_number: {first_input}\\nsecond_input: {second_input}\")\n",
    "\n",
    "result = lesser_or_greater(first_number, second_number)\n",
    "print(result)"
   ]
  },
  {
   "cell_type": "markdown",
   "metadata": {},
   "source": [
    "Write a function takes a two-word string and returns True if both words begin with same letter"
   ]
  },
  {
   "cell_type": "code",
   "execution_count": 16,
   "metadata": {},
   "outputs": [],
   "source": [
    "def matching_letters(string_1, string_2):\n",
    "    if string_1[0].lower() == string_2[0].lower():\n",
    "        return True\n",
    "    else:\n",
    "        return False"
   ]
  },
  {
   "cell_type": "code",
   "execution_count": 19,
   "metadata": {},
   "outputs": [
    {
     "name": "stdout",
     "output_type": "stream",
     "text": [
      "True\n"
     ]
    }
   ],
   "source": [
    "first_string = input('Please enter the first string: ')\n",
    "second_string = input('please enter the second string:')\n",
    "\n",
    "result = matching_letters(first_string, second_string)\n",
    "print(result)"
   ]
  },
  {
   "cell_type": "markdown",
   "metadata": {},
   "source": [
    "Given two integers, return True if the sum of the integers is 20 *or* if one of the integers is 20. If not, return False"
   ]
  },
  {
   "cell_type": "code",
   "execution_count": 20,
   "metadata": {},
   "outputs": [],
   "source": [
    "def makes_twenty(first,second):\n",
    "    if first + second == 20 or (first == 20 or second == 20):\n",
    "        return True\n",
    "    else:\n",
    "        return False"
   ]
  },
  {
   "cell_type": "code",
   "execution_count": 24,
   "metadata": {},
   "outputs": [
    {
     "name": "stdout",
     "output_type": "stream",
     "text": [
      "False\n"
     ]
    }
   ],
   "source": [
    "first_value = input('Please enter the first integer: ')\n",
    "second_value = input('please enter the second integer: ')\n",
    "\n",
    "first_value_int = int(first_value)\n",
    "second_value_int = int(second_value)\n",
    "\n",
    "outcome = makes_twenty(first_value_int, second_value_int)\n",
    "print(outcome)"
   ]
  },
  {
   "cell_type": "markdown",
   "metadata": {},
   "source": [
    "Write a function that capitalizes the first and fourth letters of a name"
   ]
  },
  {
   "cell_type": "code",
   "execution_count": 100,
   "metadata": {},
   "outputs": [],
   "source": [
    "def capitalize_first_fourth(word):\n",
    "    new_word = \"\"\n",
    "    index = 0  \n",
    "    \n",
    "    while index < len(word):\n",
    "        if index == 0 or index == 3:\n",
    "            new_word += word[index].upper()\n",
    "        else:\n",
    "            new_word += word[index]\n",
    "        index += 1  \n",
    "   \n",
    "    return new_word"
   ]
  },
  {
   "cell_type": "code",
   "execution_count": 101,
   "metadata": {},
   "outputs": [
    {
     "name": "stdout",
     "output_type": "stream",
     "text": [
      "KobRa\n"
     ]
    }
   ],
   "source": [
    "capitalize_input = input('Please enter a word: ')\n",
    "final_word = capitalize_first_fourth(capitalize_input)\n",
    "print(final_word)"
   ]
  },
  {
   "cell_type": "markdown",
   "metadata": {},
   "source": [
    "Given a sentence, return a sentence with the words reversed"
   ]
  },
  {
   "cell_type": "code",
   "execution_count": 6,
   "metadata": {},
   "outputs": [],
   "source": [
    "def Master_Yoda(string):\n",
    "    string_list = string.split()\n",
    "    reverse_list = []\n",
    "    index = len(string_list) - 1\n",
    "\n",
    "    while index >= 0:\n",
    "        reverse_list.append(string_list[index])\n",
    "        index -= 1\n",
    "    \n",
    "    return \" \".join(reverse_list)\n"
   ]
  },
  {
   "cell_type": "code",
   "execution_count": 10,
   "metadata": {},
   "outputs": [
    {
     "name": "stdout",
     "output_type": "stream",
     "text": [
      "ready are We\n"
     ]
    }
   ],
   "source": [
    "sentence = input(\"Please write a sentence: \")\n",
    "reverse_words = Master_Yoda(sentence)\n",
    "print(reverse_words)\n"
   ]
  },
  {
   "cell_type": "markdown",
   "metadata": {},
   "source": [
    "Given an integer n, return True if n is within 10 of either 100 or 200"
   ]
  },
  {
   "cell_type": "code",
   "execution_count": 35,
   "metadata": {},
   "outputs": [],
   "source": [
    "def Almost_There(number):\n",
    "    if abs(100 - number) <= 10:\n",
    "        return True\n",
    "    elif abs(200 - number) <= 10:\n",
    "        return True\n",
    "    else:\n",
    "        return False"
   ]
  },
  {
   "cell_type": "code",
   "execution_count": 49,
   "metadata": {},
   "outputs": [
    {
     "name": "stdout",
     "output_type": "stream",
     "text": [
      "True\n"
     ]
    }
   ],
   "source": [
    "Value = int(input(\"Please input a number\"))\n",
    "Almost_There_Value = print(Almost_There(Value))"
   ]
  },
  {
   "cell_type": "markdown",
   "metadata": {},
   "source": [
    "Given a list of ints, return True if the array contains a 3 next to a 3 somewhere."
   ]
  },
  {
   "cell_type": "code",
   "execution_count": 77,
   "metadata": {},
   "outputs": [],
   "source": [
    "def has_33(array):  \n",
    "    index = 0\n",
    "\n",
    "    while index < len(array)-1:\n",
    "            if array[index] == '3' and array[index+1] == '3':\n",
    "                  return True\n",
    "            else:\n",
    "                  index += 1\n",
    "    \n",
    "    return False"
   ]
  },
  {
   "cell_type": "code",
   "execution_count": 81,
   "metadata": {},
   "outputs": [
    {
     "name": "stdout",
     "output_type": "stream",
     "text": [
      "You wish to have a total of 5 values in your list\n",
      "your input list is: ['1', '3', '3', '1', '1']\n",
      "True\n"
     ]
    }
   ],
   "source": [
    "values_in_input_list = int(input(\"How long would you like the list to be? \"))\n",
    "print(f\"You wish to have a total of {values_in_input_list} values in your list\") \n",
    "input_list = []\n",
    "iterate = 0\n",
    "\n",
    "while iterate < values_in_input_list:\n",
    "    input_list.append(input(\"Please enter a value for the list: \"))\n",
    "    iterate += 1\n",
    "\n",
    "print(f\"your input list is: {input_list}\")\n",
    "has_33_value = has_33(input_list)\n",
    "print(has_33_value)\n",
    "\n",
    "     "
   ]
  },
  {
   "cell_type": "markdown",
   "metadata": {},
   "source": [
    "Given a string, return a string where for every character in the original there are three characters"
   ]
  },
  {
   "cell_type": "code",
   "execution_count": 3,
   "metadata": {},
   "outputs": [],
   "source": [
    "def paper_doll(statement):\n",
    "    \n",
    "    three_times = ''\n",
    "    index = 0\n",
    "\n",
    "    while index < len(statement):\n",
    "        three_times = three_times + (3*statement[index])\n",
    "        index += 1\n",
    "    return three_times"
   ]
  },
  {
   "cell_type": "code",
   "execution_count": 5,
   "metadata": {},
   "outputs": [
    {
     "name": "stdout",
     "output_type": "stream",
     "text": [
      "MMMiiissssssiiissssssiiippppppiii\n"
     ]
    }
   ],
   "source": [
    "write = input(\"Please write something: \")\n",
    "three_characters = paper_doll(write)\n",
    "print(three_characters)\n"
   ]
  },
  {
   "cell_type": "markdown",
   "metadata": {},
   "source": [
    "Given three integers between 1 and 11, if their sum is less than or equal to 21, return their sum. If their sum exceeds 21 *and* there's an eleven, reduce the total sum by 10. Finally, if the sum (even after adjustment) exceeds 21, return 'BUST'"
   ]
  },
  {
   "cell_type": "code",
   "execution_count": 18,
   "metadata": {},
   "outputs": [],
   "source": [
    "def blackjack(num_1, num_2, num_3):\n",
    "    \n",
    "    sum = num_1+num_2+num_3\n",
    "    \n",
    "    if sum <= 21:\n",
    "        return sum\n",
    "    elif sum > 21 and (num_1 == 11 or num_2 == 11 or num_3 == 11):\n",
    "        sum = sum - 10\n",
    "        if sum > 21:\n",
    "            return 'BUST'\n",
    "        else:\n",
    "            return sum\n",
    "    else:\n",
    "        return 'BUST'"
   ]
  },
  {
   "cell_type": "code",
   "execution_count": 45,
   "metadata": {},
   "outputs": [
    {
     "name": "stdout",
     "output_type": "stream",
     "text": [
      "First Value: 9\n",
      "Second Value: 9\n",
      "Third Value: 11\n",
      "19\n"
     ]
    }
   ],
   "source": [
    "first_Value = int(input(\"Please enter the first integer value\"))\n",
    "second_Value = int(input(\"Please enter the second integer value\"))\n",
    "third_Value = int(input(\"Please enter the third integer value\"))\n",
    "\n",
    "while first_Value < 1 or first_Value > 11:\n",
    "    first_Value = int(input(\"Your first value should be between 1 and 11. Please input the correct number: \")) \n",
    "\n",
    "while second_Value < 1 or second_Value > 11:\n",
    "    second_Value = int(input(\"Your second value should be between 1 and 11. Please input the correct number: \"))\n",
    "\n",
    "while third_Value < 1 or third_Value > 11:\n",
    "    third_Value = int(input(\"Your third value should be between 1 and 11. Please input the correct number: \")) \n",
    "\n",
    "print(f\"First Value: {first_Value}\\nSecond Value: {second_Value}\\nThird Value: {third_Value}\")\n",
    "Final = blackjack(first_Value, second_Value, third_Value)\n",
    "print(Final)"
   ]
  },
  {
   "cell_type": "markdown",
   "metadata": {},
   "source": [
    "Return the sum of the numbers in the array, except ignore sections of numbers starting with a 6 and extending to the next 9 (every 6 will be followed by at least one 9). Return 0 for no numbers."
   ]
  },
  {
   "cell_type": "code",
   "execution_count": 4,
   "metadata": {},
   "outputs": [],
   "source": [
    "def summer_of_69(list_to_check):\n",
    "    \n",
    "    sum = 0\n",
    "    placement = 0\n",
    "\n",
    "    while placement < len(list_to_check):\n",
    "        \n",
    "        if list_to_check[placement] == 6:\n",
    "            while list_to_check[placement] != 9:\n",
    "                placement += 1\n",
    "                \n",
    "            placement += 1\n",
    "        else:\n",
    "            sum = sum + list_to_check[placement]\n",
    "            placement += 1\n",
    "            \n",
    "        \n",
    "    return sum \n",
    "        "
   ]
  },
  {
   "cell_type": "code",
   "execution_count": 5,
   "metadata": {},
   "outputs": [
    {
     "name": "stdout",
     "output_type": "stream",
     "text": [
      "Length of the list: 6\n",
      "Your list: [4, 5, 6, 7, 8, 9]\n",
      "sum of list excluding from 6 to 9: 9\n"
     ]
    }
   ],
   "source": [
    "while True:\n",
    "    length_of_list_user = input(\"Please input the desired length of the list: \")\n",
    "    \n",
    "    try:\n",
    "        length_of_list = int(length_of_list_user)\n",
    "        \n",
    "        if length_of_list > 0:\n",
    "            print(f\"Length of the list: {length_of_list}\")\n",
    "            break\n",
    "        else:\n",
    "            print(\"The length of the list cannot be a negative value!. Please enter a non-negative value.\")\n",
    "    \n",
    "    except ValueError:\n",
    "        print(\"Invalid input! length can only be a positive integer value.\")\\\n",
    "\n",
    "index = 0\n",
    "user_list = []\n",
    "\n",
    "while index < length_of_list:\n",
    "    user_input = input(f\"Please enter the value to fill your list: \")\n",
    "    try:\n",
    "        user_input = int(user_input)\n",
    "        user_list.append(user_input) \n",
    "        index = index + 1\n",
    "    except:\n",
    "        print(\"Invalid input! Please enter an integer value.\")\n",
    "    \n",
    "\n",
    "print(f\"Your list: {user_list}\")\n",
    "sum_of_list_excluding_from_6_to_9 = summer_of_69(user_list)\n",
    "print(f\"sum of list excluding from 6 to 9: {sum_of_list_excluding_from_6_to_9}\")"
   ]
  },
  {
   "cell_type": "markdown",
   "metadata": {},
   "source": [
    "Write a function that takes in a list of integers and returns True if it contains 007 in order"
   ]
  },
  {
   "cell_type": "code",
   "execution_count": 44,
   "metadata": {},
   "outputs": [],
   "source": [
    "def spy_game(spy_list):\n",
    "    \n",
    "    holder_one = 0\n",
    "    holder_two = 0\n",
    "\n",
    "    while holder_one <= len(spy_list)-3:\n",
    "        \n",
    "        holder_two = holder_one\n",
    "        \n",
    "        if spy_list[holder_one] == 0:\n",
    "            holder_two += 1\n",
    "            \n",
    "            while holder_two < len(spy_list):\n",
    "                \n",
    "                if spy_list[holder_two] == 0:\n",
    "                    holder_two += 1\n",
    "                    \n",
    "                    while holder_two < len(spy_list):\n",
    "                        \n",
    "                        if spy_list[holder_two] == 7:\n",
    "                            return True\n",
    "                        else:\n",
    "                            holder_two += 1\n",
    "                else:\n",
    "                    holder_two += 1\n",
    "            \n",
    "            holder_one += 1\n",
    "        \n",
    "        else:\n",
    "            holder_one += 1\n",
    "    \n",
    "    return False"
   ]
  },
  {
   "cell_type": "code",
   "execution_count": 56,
   "metadata": {},
   "outputs": [
    {
     "name": "stdout",
     "output_type": "stream",
     "text": [
      "Length of the list: 6\n",
      "Your list: [0, 7, 0, 0, 0, 7]\n",
      "Does your list have '007' in order?\n",
      "The answer is True!\n"
     ]
    }
   ],
   "source": [
    "while True:\n",
    "    length_of_list_user = input(\"Please input the desired length of the list: \")\n",
    "    \n",
    "    try:\n",
    "        length_of_list = int(length_of_list_user)\n",
    "        \n",
    "        if length_of_list > 0:\n",
    "            print(f\"Length of the list: {length_of_list}\")\n",
    "            break\n",
    "        else:\n",
    "            print(\"The length of the list cannot be a negative value!. Please enter a non-negative value.\")\n",
    "    \n",
    "    except ValueError:\n",
    "        print(\"Invalid input! length can only be a positive integer value.\")\n",
    "\n",
    "index = 0\n",
    "user_list = []\n",
    "\n",
    "while index < length_of_list:\n",
    "    user_input = input(f\"Please enter the value to fill your list: \")\n",
    "    try:\n",
    "        user_input = int(user_input)\n",
    "        user_list.append(user_input) \n",
    "        index = index + 1\n",
    "    except:\n",
    "        print(\"Invalid input! Please enter an integer value.\")\n",
    "    \n",
    "\n",
    "print(f\"Your list: {user_list}\")\n",
    "print(f\"Does your list have '007' in order?\\nThe answer is {spy_game(user_list)}!\")"
   ]
  },
  {
   "cell_type": "markdown",
   "metadata": {},
   "source": [
    "Write a function that returns the *number* of prime numbers that exist up to and including a given number"
   ]
  },
  {
   "cell_type": "code",
   "execution_count": 16,
   "metadata": {},
   "outputs": [],
   "source": [
    "def Count_Primes(up_to_prime):\n",
    "\n",
    "    prime_list = []\n",
    "    prime_count = 0\n",
    "\n",
    "    for value in range(2, up_to_prime + 1):\n",
    "        \n",
    "        number = 1\n",
    "        count = 0\n",
    "        \n",
    "        while number <= up_to_prime:\n",
    "            if value % number == 0:\n",
    "                count += 1\n",
    "            else:\n",
    "                pass\n",
    "            \n",
    "            number += 1\n",
    "        \n",
    "        if count == 2:\n",
    "            prime_list.append(value)\n",
    "            prime_count += 1\n",
    "        else:\n",
    "            pass\n",
    "    \n",
    "    print(f\"Prime numbers included in the range up to {up_to_prime}: \\n{prime_list}\")\n",
    "    return prime_count"
   ]
  },
  {
   "cell_type": "code",
   "execution_count": 18,
   "metadata": {},
   "outputs": [
    {
     "name": "stdout",
     "output_type": "stream",
     "text": [
      "Desired Range: 11\n",
      "Prime numbers included in the range up to 11: \n",
      "[2, 3, 5, 7, 11]\n",
      "Your range has 5 prime_numbers\n"
     ]
    }
   ],
   "source": [
    "while True:\n",
    "    prime_number_range = input(\"Please input the desired range for prime number: \")\n",
    "    \n",
    "    try:\n",
    "        prime_number_range = int(prime_number_range)\n",
    "        \n",
    "        if prime_number_range > 1:\n",
    "            print(f\"Desired Range: {prime_number_range}\")\n",
    "            break\n",
    "        elif prime_number_range == 1:\n",
    "            print(\"One is not a prime number! Please enter a valid range\")\n",
    "        else:\n",
    "            print(\"The range cannot be a negative value!. Please enter a positive range.\")\n",
    "    \n",
    "    except ValueError:\n",
    "        print(\"Invalid input! length can only be a positive integer value.\")\n",
    "    \n",
    "\n",
    "total_prime_numbers = Count_Primes(prime_number_range)\n",
    "print(f\"Your range has {total_prime_numbers} prime numbers\")"
   ]
  },
  {
   "cell_type": "markdown",
   "metadata": {},
   "source": [
    "Write a function that takes in a single letter, and returns a 5x5 representation of that letter"
   ]
  },
  {
   "cell_type": "code",
   "execution_count": 31,
   "metadata": {},
   "outputs": [],
   "source": [
    "def Print_big(alphabet_mapping, user_choice):\n",
    "\n",
    "    for key,value in alphabet_mapping.items():\n",
    "        if key == user_choice.upper():\n",
    "            print(f'5x5 representation of letter {user_choice.upper()}:\\n\\n{value}')\n",
    "        else:\n",
    "            pass\n"
   ]
  },
  {
   "cell_type": "code",
   "execution_count": 32,
   "metadata": {},
   "outputs": [
    {
     "name": "stdout",
     "output_type": "stream",
     "text": [
      "You entered a valid alphabet: H\n",
      "5x5 representation of letter H:\n",
      "\n",
      "*   *\n",
      "*   *\n",
      "*****\n",
      "*   *\n",
      "*   *\n"
     ]
    }
   ],
   "source": [
    "while True:\n",
    "    \n",
    "    user_input = input(\"Please enter a single alphabet between A and Z: \")\n",
    "\n",
    "    \n",
    "    if len(user_input) == 1 and user_input.isalpha():\n",
    "        if user_input.upper() >= 'A' and user_input.upper() <= 'Z':\n",
    "            print(f\"You entered a valid alphabet: {user_input.upper()}\")\n",
    "            break\n",
    "        else:\n",
    "            print(\"Please enter a valid alphabet between A and Z.\")\n",
    "    else:\n",
    "        print(\"Invalid input. Please enter a single alphabet.\")\n",
    "    \n",
    "Esterick_formation = {'A':'  *\\n * *\\n*****\\n*   *\\n*   *',\n",
    "                      'B':'****\\n*    *\\n****\\n*    *\\n****',\n",
    "                      'C':' ****\\n*    \\n*    \\n*    \\n ****',\n",
    "                      'D':'****\\n*   *\\n*   *\\n*   *\\n****',\n",
    "                      'E':'*****\\n*\\n*****\\n*\\n*****',\n",
    "                      'F':'*****\\n*\\n*****\\n*\\n*',\n",
    "                      'G':' ***\\n*\\n* ***\\n*   *\\n ***',\n",
    "                      'H':'*   *\\n*   *\\n*****\\n*   *\\n*   *',\n",
    "                      'I':'*****\\n  *  \\n  *  \\n  *  \\n*****',\n",
    "                      'J':'*****\\n    *\\n    *\\n*   *\\n ***',\n",
    "                      'K':'*   *\\n*  *\\n**\\n*  *\\n*   *',\n",
    "                      'L':'*\\n*\\n*\\n*\\n*****',\n",
    "                      'M':'*   *\\n* * *\\n*   *\\n*   *\\n*   *',\n",
    "                      'N':'*   *\\n**  *\\n* * *\\n*  **\\n*   *',\n",
    "                      'O':' *** \\n*   *\\n*   *\\n*   *\\n *** ',\n",
    "                      'P':'****\\n*   *\\n****\\n*\\n*',\n",
    "                      'Q':' *** \\n*   *\\n*   *\\n *** \\n  ***\\n',\n",
    "                      'R':'****\\n*   *\\n****\\n*  *\\n*   *',\n",
    "                      'S':' ****\\n*   \\n *** \\n    *\\n****',\n",
    "                      'T':'*****\\n  *  \\n  *  \\n  *  \\n  *  ',\n",
    "                      'U':'*   *\\n*   *\\n*   *\\n*   *\\n *** ',\n",
    "                      'Y':'*   *\\n * *\\n  *\\n  *  \\n  *  ',\n",
    "                      'V':'*   *\\n*   *\\n*   *\\n * * \\n  *  ',\n",
    "                      'W':'*   *\\n*   *\\n* * *\\n** **\\n*   *',\n",
    "                      'X':'*   *\\n * * \\n  *  \\n * *\\n*   *',\n",
    "                      'Z':'*****\\n   * \\n  *  \\n *   \\n*****'}   \n",
    "\n",
    "Print_big(Esterick_formation, user_input)"
   ]
  }
 ],
 "metadata": {
  "kernelspec": {
   "display_name": "new-env",
   "language": "python",
   "name": "python3"
  },
  "language_info": {
   "codemirror_mode": {
    "name": "ipython",
    "version": 3
   },
   "file_extension": ".py",
   "mimetype": "text/x-python",
   "name": "python",
   "nbconvert_exporter": "python",
   "pygments_lexer": "ipython3",
   "version": "3.12.3"
  }
 },
 "nbformat": 4,
 "nbformat_minor": 2
}
