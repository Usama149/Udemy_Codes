{
 "cells": [
  {
   "cell_type": "markdown",
   "metadata": {},
   "source": [
    "Write a function that computes the volume of a sphere given its radius"
   ]
  },
  {
   "cell_type": "code",
   "execution_count": 12,
   "metadata": {},
   "outputs": [],
   "source": [
    "import math\n",
    "\n",
    "def Volume_of_a_Sphere(Radius):\n",
    "    return (4/3)*math.pi*(Radius**3)"
   ]
  },
  {
   "cell_type": "code",
   "execution_count": 16,
   "metadata": {},
   "outputs": [
    {
     "name": "stdout",
     "output_type": "stream",
     "text": [
      "Radius = 3.0\n",
      "Volume of a sphere having radius 3.0 = 113.097\n"
     ]
    }
   ],
   "source": [
    "while True:\n",
    "    \n",
    "    try:\n",
    "        user_input = float(input(\"Please enter the radius of a sphere: \"))\n",
    "        \n",
    "        if user_input == int(user_input) or user_input == float(user_input):\n",
    "            if int(user_input) < 0 or float(user_input) < 0:\n",
    "                print(\"Radius cannot be a negative value! Please enter a valid value for radius.\")\n",
    "            else:\n",
    "                print(f\"Radius = {user_input}\")\n",
    "                break\n",
    "    \n",
    "    except ValueError:\n",
    "        print(\"Invalid entry! Please enter a number fo  r radius, and not characters\")\n",
    "\n",
    "\n",
    "Volume = print(f\"Volume of a sphere having radius {user_input} = {round(Volume_of_a_Sphere(user_input),3)}\")"
   ]
  },
  {
   "cell_type": "markdown",
   "metadata": {},
   "source": [
    "Write a function that checks whether a number is in a given range (inclusive of high and low)"
   ]
  },
  {
   "cell_type": "code",
   "execution_count": 37,
   "metadata": {},
   "outputs": [],
   "source": [
    "def find_number(range_of_numbers,number):\n",
    "\n",
    "    if number in range_of_numbers:\n",
    "        return True\n",
    "    else:\n",
    "        return False\n"
   ]
  },
  {
   "cell_type": "code",
   "execution_count": 38,
   "metadata": {},
   "outputs": [
    {
     "name": "stdout",
     "output_type": "stream",
     "text": [
      "The starting value of the range is: 10.0\n",
      "The ending value of the range is: 0.0\n",
      "Step size cannot be a positive value as the ending point is greater than the starting point in the range\n",
      "Step size of the range is: -2.0\n",
      "\n",
      "The desired range is from 10.0 to 0.0 with a step size of -2.0\n",
      "\n",
      "Range: [10.0, 8.0, 6.0, 4.0, 2.0, 0.0]\n",
      "\n",
      "The number to search in the list: 6.0\n",
      "Is the number 6.0 in the provided range?\n",
      "The answer is True\n"
     ]
    }
   ],
   "source": [
    "while True:\n",
    "    \n",
    "    try:\n",
    "        starting_value = float(input(\"Please enter the starting point of the range: \"))\n",
    "        \n",
    "        if starting_value == int(starting_value) or starting_value == float(starting_value):\n",
    "            print(f\"The starting value of the range is: {starting_value}\")\n",
    "            break\n",
    "        else:\n",
    "            pass\n",
    "    \n",
    "    except ValueError:\n",
    "        print(\"Invalid entry! Please enter a number for the range, no characters allowed\")\n",
    "\n",
    "while True:\n",
    "    \n",
    "    try:\n",
    "        ending_value = float(input(\"Please enter the ending value of the range: \"))\n",
    "        \n",
    "        if ending_value == int(ending_value) or ending_value == float(ending_value):\n",
    "            print(f\"The ending value of the range is: {ending_value}\")\n",
    "            break\n",
    "        else:\n",
    "            pass\n",
    "    \n",
    "    except ValueError:\n",
    "        print(\"Invalid entry! Please enter a number for the range, no characters allowed\")\n",
    "\n",
    "while True:\n",
    "    \n",
    "    try:\n",
    "        step_size = float(input(\"Please enter the step size of your range: \"))\n",
    "        \n",
    "        if step_size == int(step_size) or step_size == float(step_size):\n",
    "            if step_size < 0 and ending_value > starting_value:\n",
    "                print(\"Step size cannot be a negative as the ending point is greater than the starting point in the range\")\n",
    "            elif step_size > 0 and ending_value < starting_value:\n",
    "                print(\"Step size cannot be a positive value as the ending point is lower than the starting point in the range\")\n",
    "            elif step_size == 0:\n",
    "                print(\"0 cannot be entered as the range will not be incremented. Step size allows for the list to be incremented10\")\n",
    "            else:\n",
    "                print(f\"Step size of the range is: {step_size}\")\n",
    "                break\n",
    "     \n",
    "    except ValueError:\n",
    "        print(\"Invalid entry! Please enter a number for the step size, no characters allowed\")\n",
    "\n",
    "\n",
    "print(f\"\\nThe desired range is from {starting_value} to {ending_value} with a step size of {step_size}\")\n",
    "\n",
    "range_list = []\n",
    "\n",
    "if ending_value > starting_value:\n",
    "    while starting_value <= ending_value:\n",
    "        range_list.append(starting_value)\n",
    "        starting_value += step_size\n",
    "else:\n",
    "    step_size = step_size*-1.0\n",
    "    while starting_value >= ending_value:\n",
    "        range_list.append(starting_value)\n",
    "        starting_value -= step_size\n",
    "\n",
    "print(f\"\\nRange: {range_list}\")\n",
    "\n",
    "while True:\n",
    "    \n",
    "    try:\n",
    "        search_number = float(input(\"\\nPlease enter the number to search in the provided range: \"))\n",
    "        \n",
    "        if search_number == int(search_number) or search_number == float(search_number):\n",
    "            print(f\"\\nThe number to search in the list: {search_number}\")\n",
    "            break\n",
    "        else:\n",
    "            pass\n",
    "    \n",
    "    except ValueError:\n",
    "        print(\"Invalid entry! Please enter a number to search, no characters allowed\")\n",
    "\n",
    "\n",
    "number_in_list = print(f\"Is the number {search_number} in the provided range?\\nThe answer is {find_number(range_list,search_number)}\")\n",
    "\n",
    "                  "
   ]
  },
  {
   "cell_type": "markdown",
   "metadata": {},
   "source": [
    "Write a Python function that accepts a string and calculates the number of upper case letters and lower case letters."
   ]
  },
  {
   "cell_type": "code",
   "execution_count": 40,
   "metadata": {},
   "outputs": [],
   "source": [
    "def upper_lower(statement):\n",
    "    \n",
    "    upper = 0\n",
    "    upper_list = []\n",
    "    lower = 0\n",
    "    lower_list = []\n",
    "    num = 0\n",
    "    num_list = []\n",
    "    blankspaces = 0\n",
    "    \n",
    "    other_characters = 0\n",
    "    other_characters_list = []\n",
    "\n",
    "    for char in statement:\n",
    "        \n",
    "        if char.isupper() == True:\n",
    "            upper += 1\n",
    "            upper_list.append(char)\n",
    "        elif char.islower() == True:\n",
    "            lower += 1\n",
    "            lower_list.append(char)\n",
    "        elif char.isdigit() == True:\n",
    "            num += 1\n",
    "            num_list.append(char)\n",
    "        elif char == \" \":\n",
    "            blankspaces = blankspaces + 1\n",
    "            \n",
    "        else:\n",
    "            other_characters += 1\n",
    "            other_characters_list.append(char)\n",
    "            \n",
    "            \n",
    "    \n",
    "    print(f\"\\nTotal upper case letters in the string: {upper}\\nUpper case letters in the string: {upper_list}\")\n",
    "    print(f\"\\nTotal lower case letters in the string: {lower}\\nLower case letters in the string: {lower_list}\")\n",
    "    print(f\"\\nTotal numbers in the string: {num}\\nNumbers in the string: {num_list}\")\n",
    "    print(f\"\\nTotal blank spaces in the string: {blankspaces}\")\n",
    "    print(f\"\\nTotal characters apart form alphabets: {other_characters}\\nOther characters in the string: {other_characters_list}\")"
   ]
  },
  {
   "cell_type": "code",
   "execution_count": 41,
   "metadata": {},
   "outputs": [
    {
     "name": "stdout",
     "output_type": "stream",
     "text": [
      "The string that you entered is: Hello Mr. Rogers, how are you this fine Tuesday?\n",
      "\n",
      "Total upper case letters in the string: 4\n",
      "Upper case letters in the string: ['H', 'M', 'R', 'T']\n",
      "\n",
      "Total lower case letters in the string: 33\n",
      "Lower case letters in the string: ['e', 'l', 'l', 'o', 'r', 'o', 'g', 'e', 'r', 's', 'h', 'o', 'w', 'a', 'r', 'e', 'y', 'o', 'u', 't', 'h', 'i', 's', 'f', 'i', 'n', 'e', 'u', 'e', 's', 'd', 'a', 'y']\n",
      "\n",
      "Total numbers in the string: 0\n",
      "Numbers in the string: []\n",
      "\n",
      "Total blank spaces in the string: 8\n",
      "\n",
      "Total characters apart form alphabets: 3\n",
      "Other characters in the string: ['.', ',', '?']\n"
     ]
    }
   ],
   "source": [
    "string_user = input(\"Please enter a string: \")\n",
    "\n",
    "print(f\"The string that you entered is: {string_user}\")\n",
    "\n",
    "upper_lower(string_user)\n",
    "\n",
    "\n",
    "\n"
   ]
  },
  {
   "cell_type": "markdown",
   "metadata": {},
   "source": [
    "Write a Python function that takes a list and returns a new list with unique elements of the first list"
   ]
  },
  {
   "cell_type": "code",
   "execution_count": 42,
   "metadata": {},
   "outputs": [],
   "source": [
    "def unique_list(users_list):\n",
    "\n",
    "    for index,element in enumerate(users_list):\n",
    "        \n",
    "        count = index + 1\n",
    "        \n",
    "        while count < len(users_list):\n",
    "            \n",
    "            if users_list[count] == users_list[index]:\n",
    "                users_list.pop(count)\n",
    "                count = index\n",
    "                count += 1\n",
    "            else:\n",
    "                count += 1\n",
    "    \n",
    "    return sorted(users_list)\n",
    "\n"
   ]
  },
  {
   "cell_type": "code",
   "execution_count": 43,
   "metadata": {},
   "outputs": [
    {
     "name": "stdout",
     "output_type": "stream",
     "text": [
      "You entered: \n",
      "\n",
      "Your list: []\n",
      "\n",
      "Unique elements in the list: []\n"
     ]
    }
   ],
   "source": [
    "input_from_user = input(\"Please enter a string to be converted to a list: \")\n",
    "\n",
    "print(f\"You entered: {input_from_user}\")\n",
    "input_from_user_list = list(input_from_user)\n",
    "print(f\"\\nYour list: {input_from_user_list}\")\n",
    "\n",
    "list_with_unique_elements = unique_list(input_from_user_list)\n",
    "\n",
    "print(f\"\\nUnique elements in the list: {list_with_unique_elements}\")"
   ]
  },
  {
   "cell_type": "markdown",
   "metadata": {},
   "source": [
    "Write a Python function to multiply all the numbers in a list"
   ]
  },
  {
   "cell_type": "code",
   "execution_count": 23,
   "metadata": {},
   "outputs": [],
   "source": [
    "def is_float(element: str) -> bool:\n",
    "    try:\n",
    "        float(element)\n",
    "        return True\n",
    "    except ValueError:\n",
    "        return False\n",
    "\n",
    "\n",
    "def multiply(passed_list):\n",
    "\n",
    "    result = 1.0\n",
    "    iterate = 0\n",
    "    \n",
    "    for index,element in enumerate(passed_list):\n",
    "\n",
    "        if element.isdigit():\n",
    "\n",
    "            result = result * int(element)\n",
    "            iterate += 1\n",
    "\n",
    "        elif is_float(element):\n",
    "\n",
    "           result = result * float(element)\n",
    "           iterate += 1\n",
    "           \n",
    "        else:\n",
    "            pass\n",
    "        \n",
    "        \n",
    "    \n",
    "    \n",
    "    if iterate > 0:\n",
    "        return result\n",
    "    else:\n",
    "        return 0\n"
   ]
  },
  {
   "cell_type": "code",
   "execution_count": 29,
   "metadata": {},
   "outputs": [
    {
     "name": "stdout",
     "output_type": "stream",
     "text": [
      "Invalid entry! Length can only be an integer value.\n",
      "Invalid entry! Length can only be an integer value.\n",
      "Invalid entry! Length can only be an integer value.\n",
      "Length of the list: 3\n",
      "\n",
      "Your list: ['-2.4', '-2.1', '-3.6']\n",
      "\n",
      "Result of multiplication of all numbers in the list: -18.144\n"
     ]
    }
   ],
   "source": [
    "while True:\n",
    "\n",
    "    input_user = input(\"Please enter the length of the list: \")\n",
    "    \n",
    "    try:\n",
    "        \n",
    "        input_user == int(input_user)\n",
    "\n",
    "        if int(input_user) < 0 or int(input_user) == 0:\n",
    "            print(\"Invalid entry! Length can only be a positive integer value.\")\n",
    "        else:\n",
    "            print(f\"Length of the list: {input_user}\")\n",
    "            break\n",
    "    except ValueError:\n",
    "\n",
    "        print(\"Invalid entry! Length can only be an integer value.\")\n",
    "    \n",
    "user_list = []\n",
    "count = 0\n",
    "    \n",
    "while count < int(input_user):\n",
    "    user_list.append(input(\"\\nPlease enter a value to fill your list: \")) \n",
    "    count = count + 1\n",
    "    \n",
    "print(f\"\\nYour list: {user_list}\")\n",
    "\n",
    "print(f\"\\nResult of multiplication of all numbers in the list: {round(multiply(user_list),3)}\")"
   ]
  },
  {
   "cell_type": "markdown",
   "metadata": {},
   "source": [
    "Write a Python function that checks whether a passed in string is palindrome or not"
   ]
  },
  {
   "cell_type": "code",
   "execution_count": 35,
   "metadata": {},
   "outputs": [],
   "source": [
    "def palindrome(check_palindrome):\n",
    "\n",
    "    new_list = []\n",
    "    count = len(check_palindrome) - 1\n",
    "\n",
    "    while count >= 0:\n",
    "\n",
    "\n",
    "        new_list.append(check_palindrome[count])\n",
    "\n",
    "        count -= 1\n",
    "\n",
    "    if new_list == check_palindrome:\n",
    "        return True\n",
    "    else:\n",
    "        return False"
   ]
  },
  {
   "cell_type": "code",
   "execution_count": 36,
   "metadata": {},
   "outputs": [
    {
     "name": "stdout",
     "output_type": "stream",
     "text": [
      "\n",
      "Your string: ['n', 'u', 'r', 's', 'e', 's', 'r', 'u', 'n']\n",
      "\n",
      "Is your string a palindrome? The answer is True\n"
     ]
    }
   ],
   "source": [
    "user_string = input(\"Please enter a word, or a string to check if it is palindrome\")\n",
    "\n",
    "new_user_list = []\n",
    "\n",
    "for char in user_string:\n",
    "    \n",
    "    if char == ' ':\n",
    "        pass\n",
    "    else:\n",
    "        new_user_list.append(char)\n",
    "\n",
    "print(f\"\\nYour string: {new_user_list}\")\n",
    "\n",
    "print(f\"\\nIs your string a palindrome? The answer is {palindrome(new_user_list)}\")"
   ]
  },
  {
   "cell_type": "markdown",
   "metadata": {},
   "source": [
    "Write a Python function to check whether a string is pangram or not.\n",
    "\n",
    "    Note : Pangrams are words or sentences containing every letter of the alphabet at least once.\n",
    "    For example : \"The quick brown fox jumps over the lazy dog\"\n"
   ]
  },
  {
   "cell_type": "code",
   "execution_count": 27,
   "metadata": {},
   "outputs": [],
   "source": [
    "def string(string_list):\n",
    "\n",
    "    pangram_count = 0\n",
    "\n",
    "\n",
    "    for index,element in enumerate(string_list):\n",
    "\n",
    "        count = index + 1\n",
    "\n",
    "        while count < len(string_list):\n",
    "\n",
    "            if string_list[count] == element and element != \" \":\n",
    "\n",
    "                pangram_count += 1\n",
    "                count += 1\n",
    "            \n",
    "            else:\n",
    "\n",
    "                count += 1\n",
    "    \n",
    "    if pangram_count != 0:\n",
    "        return True\n",
    "    else:\n",
    "        return False\n"
   ]
  },
  {
   "cell_type": "code",
   "execution_count": 32,
   "metadata": {},
   "outputs": [
    {
     "name": "stdout",
     "output_type": "stream",
     "text": [
      "\n",
      "Your string: Two driven jocks help fax my big quiz\n",
      "\n",
      "Is your string pangram?\n",
      "The answer is True\n"
     ]
    }
   ],
   "source": [
    "user_string = input(\"Please enter a string: \")\n",
    "\n",
    "print(f\"\\nYour string: {user_string}\")\n",
    "\n",
    "user_string_list = list(user_string)\n",
    "\n",
    "string_is_pangram = string(user_string_list)\n",
    "\n",
    "print(f\"\\nIs your string pangram?\\nThe answer is {string_is_pangram}\")"
   ]
  }
 ],
 "metadata": {
  "kernelspec": {
   "display_name": "new-env",
   "language": "python",
   "name": "python3"
  },
  "language_info": {
   "codemirror_mode": {
    "name": "ipython",
    "version": 3
   },
   "file_extension": ".py",
   "mimetype": "text/x-python",
   "name": "python",
   "nbconvert_exporter": "python",
   "pygments_lexer": "ipython3",
   "version": "3.12.3"
  }
 },
 "nbformat": 4,
 "nbformat_minor": 2
}
